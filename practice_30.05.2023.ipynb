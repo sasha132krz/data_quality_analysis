{
 "cells": [
  {
   "cell_type": "code",
   "execution_count": 5,
   "id": "33a1480f",
   "metadata": {},
   "outputs": [
    {
     "name": "stdout",
     "output_type": "stream",
     "text": [
      "Выберете способ созранения данных:\n",
      "1 - созранить в формате .xlsx\n",
      "2 - созранить в формате .csv\n",
      "1\n",
      "Введите имя файла:data\n",
      "Файл успешно сохранен!\n"
     ]
    }
   ],
   "source": [
    "import numpy as np\n",
    "import pandas as pd\n",
    "\n",
    "def start_iteration(csv):\n",
    "    df = pd.read_csv(csv[1])\n",
    "    tmp = df.isnull().sum(axis=1) # Количество пустых значений в каждой строке\n",
    "    max_tmp = max(tmp) # Максимальное количество пустых значений в каждой строке\n",
    "    avg_tmp = sum(tmp) / len(tmp) # Среднее арифметическое количество пустых значений в каждой строке\n",
    "    min_tmp = min(tmp) # Минимальное количество пустых значений в каждой строке\n",
    "    result = pd.DataFrame({'Название набора данных': [csv[2]],\n",
    "                           'Ссылка на набор данных': [csv[3]],\n",
    "                           'Количество записей (строк) в наборе': [df.shape[0]],\n",
    "                           'Количество столбцов в наборе': [df.shape[1]],\n",
    "                           'Общее количество пустых значений': [df.isnull().sum().sum()],\n",
    "                           'Количество пустых значений в каждом из столбцов в виде строки': [', '.join(map(str, df.isnull().sum()))],\n",
    "                           'Минимальное/Максимальное/Среднее количество пустых значений в каждой строке': [' / '.join(map(str, [min_tmp, max_tmp, avg_tmp]))]\n",
    "                           })\n",
    "    \n",
    "    return result\n",
    "\n",
    "def save_file(data_frame):\n",
    "    print('Выберете способ созранения данных:')\n",
    "    print('1 - созранить в формате .xlsx')\n",
    "    print('2 - созранить в формате .csv')\n",
    "    type_out_put = input()\n",
    "    name_file = input('Введите имя файла:')\n",
    "    \n",
    "    def save_to_csv():\n",
    "        data_frame.to_csv(f'{name_file}.csv', index = False, encoding='utf-8-sig')\n",
    "    def save_to_excel():\n",
    "        # Create a Pandas Excel writer using XlsxWriter as the engine.\n",
    "        writer = pd.ExcelWriter(f'{name_file}.xlsx', engine='xlsxwriter')\n",
    "        data_frame.to_excel(writer, sheet_name='Sheet1', index=False)\n",
    "\n",
    "        # Get the xlsxwriter workbook and worksheet objects.\n",
    "        workbook = writer.book\n",
    "        worksheet = writer.sheets['Sheet1']\n",
    "\n",
    "        worksheet.autofit()\n",
    "\n",
    "        # Close the Pandas Excel writer and output the Excel file.\n",
    "        writer.close()\n",
    "\n",
    "    match type_out_put:\n",
    "        case '1':\n",
    "            return save_to_excel\n",
    "        case '2':\n",
    "            return save_to_csv\n",
    "        case _:\n",
    "            print('Вы ввели не верный параметр!')\n",
    "            return save_file(data_frame)\n",
    "    \n",
    "def get_data_quality_analysis(data_s):\n",
    "    df = pd.read_csv(data_s)\n",
    "    df_result = pd.DataFrame()\n",
    "    for row in df.itertuples():\n",
    "        df_temp = start_iteration(row)\n",
    "        df_result = pd.concat([df_result, df_temp])\n",
    "    \n",
    "    fn = save_file(df_result)\n",
    "    fn()\n",
    "    print('Файл успешно сохранен!')\n",
    "\n",
    "get_data_quality_analysis(\"./list_files.csv\")"
   ]
  },
  {
   "cell_type": "code",
   "execution_count": null,
   "id": "b5e15aaf",
   "metadata": {},
   "outputs": [],
   "source": []
  }
 ],
 "metadata": {
  "kernelspec": {
   "display_name": "Python 3 (ipykernel)",
   "language": "python",
   "name": "python3"
  },
  "language_info": {
   "codemirror_mode": {
    "name": "ipython",
    "version": 3
   },
   "file_extension": ".py",
   "mimetype": "text/x-python",
   "name": "python",
   "nbconvert_exporter": "python",
   "pygments_lexer": "ipython3",
   "version": "3.10.9"
  }
 },
 "nbformat": 4,
 "nbformat_minor": 5
}
